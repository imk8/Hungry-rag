{
 "cells": [
  {
   "cell_type": "code",
   "execution_count": 1,
   "metadata": {},
   "outputs": [
    {
     "name": "stderr",
     "output_type": "stream",
     "text": [
      "/Users/waishun/Library/CloudStorage/OneDrive-SingaporeUniversityofTechnologyandDesign/SUTD_Y4/information_retrieval/hungry-rag/env/lib/python3.11/site-packages/tqdm/auto.py:21: TqdmWarning: IProgress not found. Please update jupyter and ipywidgets. See https://ipywidgets.readthedocs.io/en/stable/user_install.html\n",
      "  from .autonotebook import tqdm as notebook_tqdm\n",
      "(…)e-NER/resolve/main/tokenizer_config.json: 100%|██████████| 59.0/59.0 [00:00<00:00, 26.5kB/s]\n",
      "(…)m/bert-base-NER/resolve/main/config.json: 100%|██████████| 829/829 [00:00<00:00, 5.02MB/s]\n",
      "(…)lim/bert-base-NER/resolve/main/vocab.txt: 100%|██████████| 213k/213k [00:00<00:00, 18.8MB/s]\n",
      "(…)-base-NER/resolve/main/added_tokens.json: 100%|██████████| 2.00/2.00 [00:00<00:00, 9.95kB/s]\n",
      "(…)NER/resolve/main/special_tokens_map.json: 100%|██████████| 112/112 [00:00<00:00, 292kB/s]\n",
      "model.safetensors: 100%|██████████| 433M/433M [00:17<00:00, 25.1MB/s] \n",
      "Some weights of the model checkpoint at dslim/bert-base-NER were not used when initializing BertForTokenClassification: ['bert.pooler.dense.bias', 'bert.pooler.dense.weight']\n",
      "- This IS expected if you are initializing BertForTokenClassification from the checkpoint of a model trained on another task or with another architecture (e.g. initializing a BertForSequenceClassification model from a BertForPreTraining model).\n",
      "- This IS NOT expected if you are initializing BertForTokenClassification from the checkpoint of a model that you expect to be exactly identical (initializing a BertForSequenceClassification model from a BertForSequenceClassification model).\n"
     ]
    },
    {
     "name": "stdout",
     "output_type": "stream",
     "text": [
      "[{'entity': 'B-PER', 'score': 0.9990139, 'index': 4, 'word': 'Wolfgang', 'start': 11, 'end': 19}, {'entity': 'B-LOC', 'score': 0.999645, 'index': 9, 'word': 'Berlin', 'start': 34, 'end': 40}]\n"
     ]
    }
   ],
   "source": [
    "from transformers import AutoTokenizer, AutoModelForTokenClassification\n",
    "from transformers import pipeline\n"
   ]
  },
  {
   "cell_type": "code",
   "execution_count": 2,
   "metadata": {},
   "outputs": [
    {
     "name": "stderr",
     "output_type": "stream",
     "text": [
      "Some weights of the model checkpoint at dslim/bert-base-NER were not used when initializing BertForTokenClassification: ['bert.pooler.dense.bias', 'bert.pooler.dense.weight']\n",
      "- This IS expected if you are initializing BertForTokenClassification from the checkpoint of a model trained on another task or with another architecture (e.g. initializing a BertForSequenceClassification model from a BertForPreTraining model).\n",
      "- This IS NOT expected if you are initializing BertForTokenClassification from the checkpoint of a model that you expect to be exactly identical (initializing a BertForSequenceClassification model from a BertForSequenceClassification model).\n"
     ]
    }
   ],
   "source": [
    "tokenizer = AutoTokenizer.from_pretrained(\"dslim/bert-base-NER\")\n",
    "model = AutoModelForTokenClassification.from_pretrained(\"dslim/bert-base-NER\")"
   ]
  },
  {
   "cell_type": "code",
   "execution_count": 5,
   "metadata": {},
   "outputs": [],
   "source": [
    "nlp = pipeline(\"ner\", model=model, tokenizer=tokenizer)\n",
    "## Does not do well with Singapore location names\n",
    "example = \"Where to get Indian food in Singapore that is near the Esplanade and suitable for a group of 10 people?\""
   ]
  },
  {
   "cell_type": "code",
   "execution_count": 6,
   "metadata": {},
   "outputs": [
    {
     "name": "stdout",
     "output_type": "stream",
     "text": [
      "[{'entity': 'B-MISC', 'score': 0.99961394, 'index': 4, 'word': 'Indian', 'start': 13, 'end': 19}, {'entity': 'B-LOC', 'score': 0.9997869, 'index': 7, 'word': 'Singapore', 'start': 28, 'end': 37}, {'entity': 'B-LOC', 'score': 0.9802658, 'index': 12, 'word': 'E', 'start': 55, 'end': 56}, {'entity': 'I-LOC', 'score': 0.9034168, 'index': 13, 'word': '##sp', 'start': 56, 'end': 58}, {'entity': 'I-LOC', 'score': 0.9323678, 'index': 14, 'word': '##lana', 'start': 58, 'end': 62}, {'entity': 'I-LOC', 'score': 0.96285564, 'index': 15, 'word': '##de', 'start': 62, 'end': 64}]\n"
     ]
    }
   ],
   "source": [
    "ner_results = nlp(example)\n",
    "print(ner_results)"
   ]
  },
  {
   "cell_type": "code",
   "execution_count": 13,
   "metadata": {},
   "outputs": [
    {
     "name": "stdout",
     "output_type": "stream",
     "text": [
      "[{'entity': 'B-LOC', 'score': 0.99747676, 'index': 7, 'word': 'Chinatown', 'start': 24, 'end': 33}]\n"
     ]
    }
   ],
   "source": [
    "example = \"Where to get dim sum in Chinatown which is open late and has a view of the river?\"\n",
    "## Does not do well with food names\n",
    "ner_results = nlp(example)\n",
    "print(ner_results)"
   ]
  },
  {
   "cell_type": "code",
   "execution_count": 14,
   "metadata": {},
   "outputs": [
    {
     "name": "stdout",
     "output_type": "stream",
     "text": [
      "[{'entity': 'B-MISC', 'score': 0.99968135, 'index': 4, 'word': 'Italian', 'start': 13, 'end': 20}, {'entity': 'B-LOC', 'score': 0.9505103, 'index': 7, 'word': 'Little', 'start': 29, 'end': 35}, {'entity': 'I-LOC', 'score': 0.96490633, 'index': 8, 'word': 'Italy', 'start': 36, 'end': 41}]\n"
     ]
    }
   ],
   "source": [
    "example = \"Where to get Italian food in Little Italy that is family-friendly and has a casual setting?\"\n",
    "## Does not do well with food names\n",
    "ner_results = nlp(example)\n",
    "print(ner_results)"
   ]
  },
  {
   "cell_type": "code",
   "execution_count": null,
   "metadata": {},
   "outputs": [],
   "source": []
  }
 ],
 "metadata": {
  "kernelspec": {
   "display_name": "env",
   "language": "python",
   "name": "python3"
  },
  "language_info": {
   "codemirror_mode": {
    "name": "ipython",
    "version": 3
   },
   "file_extension": ".py",
   "mimetype": "text/x-python",
   "name": "python",
   "nbconvert_exporter": "python",
   "pygments_lexer": "ipython3",
   "version": "3.11.5"
  }
 },
 "nbformat": 4,
 "nbformat_minor": 2
}
