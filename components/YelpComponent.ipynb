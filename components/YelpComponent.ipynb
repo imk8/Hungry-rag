{
 "cells": [
  {
   "cell_type": "code",
   "execution_count": 11,
   "metadata": {},
   "outputs": [],
   "source": [
    "from haystack.nodes.base import BaseComponent\n",
    "import requests"
   ]
  },
  {
   "cell_type": "code",
   "execution_count": 24,
   "metadata": {},
   "outputs": [],
   "source": [
    "class YelpAPINode(BaseComponent):\n",
    "    outgoing_edges = 1\n",
    "\n",
    "    def __init__(self, api_key):\n",
    "        self.api_key = api_key\n",
    "\n",
    "    def run(self, query: str):\n",
    "        # Use the query (or tokens) to make an API call to Yelp (or any other API)\n",
    "        headers = {\n",
    "            \"Authorization\": f\"Bearer {self.api_key}\"\n",
    "        }\n",
    "        \n",
    "        # Assuming you want to search for businesses on Yelp based on the query\n",
    "        response = requests.get(f\"https://api.yelp.com/v3/businesses/search?location=Changi%20City%20Point&term=indian%20food&sort_by=best_match&limit=20\", headers=headers)\n",
    "        \n",
    "        # Convert the response to JSON\n",
    "        result_json = response.json()\n",
    "\n",
    "        return {\"query\": query, \"results\": result_json}, \"yelp_output1\"\n",
    "    \n",
    "    def run_batch(self, queries: [str]):\n",
    "        # Insert code here to manipulate the input and produce an output dictionary\n",
    "        output = []\n",
    "        for query in queries:\n",
    "            output.append(self.run(query))\n",
    "        return output, \"output_1\""
   ]
  },
  {
   "cell_type": "code",
   "execution_count": 25,
   "metadata": {},
   "outputs": [],
   "source": [
    "from haystack.pipelines import Pipeline\n",
    "\n",
    "# Initialize the custom Yelp node\n",
    "yelp_node = YelpAPINode(api_key=\"DmruoNQKEAtr4rNSjmhkN9z3SLoJTH9nfG2pGMVcCRY0nNBs1_Mqm0mk0O37e6YwqzQUCa0ayU3mMEA-yR003NkWQslarfo7dVjIDbMl77lPyXgf1zifhZ_4T2odZXYx\")"
   ]
  },
  {
   "cell_type": "code",
   "execution_count": 26,
   "metadata": {},
   "outputs": [],
   "source": [
    "# Create a Haystack pipeline\n",
    "p = Pipeline()\n",
    "p.add_node(component=yelp_node, name=\"YelpNode\", inputs=[\"Query\"])"
   ]
  },
  {
   "cell_type": "code",
   "execution_count": 27,
   "metadata": {},
   "outputs": [
    {
     "name": "stdout",
     "output_type": "stream",
     "text": [
      "{'query': 'pizza near me', 'results': {'businesses': [{'id': 'enbavlLlsJPiW8qvfp0nyQ', 'alias': 'mirchi-singapore-2', 'name': 'Mirchi', 'image_url': 'https://s3-media1.fl.yelpcdn.com/bphoto/uYsG81k3lAJMbg0a3uYzMQ/o.jpg', 'is_closed': False, 'url': 'https://www.yelp.com/biz/mirchi-singapore-2?adjust_creative=KiNVvQ0Keh4NSvR570v8Cg&utm_campaign=yelp_api_v3&utm_medium=api_v3_business_search&utm_source=KiNVvQ0Keh4NSvR570v8Cg', 'review_count': 1, 'categories': [{'alias': 'indpak', 'title': 'Indian'}], 'rating': 4.0, 'coordinates': {'latitude': 1.35282, 'longitude': 103.985939}, 'transactions': [], 'location': {'address1': '65 Airport Boulevard', 'address2': '', 'address3': '', 'city': 'Singapore', 'zip_code': '819663', 'country': 'SG', 'state': 'SG', 'display_address': ['65 Airport Boulevard', 'Singapore 819663', 'Singapore']}, 'phone': '', 'display_phone': '', 'distance': 3638.7255167511303}, {'id': 'SEsG2lb0UkE36Z7LeHX9AA', 'alias': 'sankranti-singapore-2', 'name': 'Sankranti', 'image_url': 'https://s3-media2.fl.yelpcdn.com/bphoto/aCyIEh2pgbK5W7O84WilVA/o.jpg', 'is_closed': False, 'url': 'https://www.yelp.com/biz/sankranti-singapore-2?adjust_creative=KiNVvQ0Keh4NSvR570v8Cg&utm_campaign=yelp_api_v3&utm_medium=api_v3_business_search&utm_source=KiNVvQ0Keh4NSvR570v8Cg', 'review_count': 2, 'categories': [{'alias': 'indpak', 'title': 'Indian'}], 'rating': 3.0, 'coordinates': {'latitude': 1.35338, 'longitude': 103.9420471}, 'transactions': [], 'price': '$', 'location': {'address1': '5 Tampines Central 6', 'address2': '#01-22, Telepark', 'address3': '', 'city': 'Singapore', 'zip_code': '529482', 'country': 'SG', 'state': 'SG', 'display_address': ['5 Tampines Central 6', '#01-22, Telepark', 'Singapore 529482', 'Singapore']}, 'phone': '+6562600629', 'display_phone': '+65 6260 0629', 'distance': 3083.235355845817}, {'id': 'BHx7NMU59TR4hoPombAMQA', 'alias': 'kinara-contemporary-indian-cuisine-singapore-3', 'name': 'Kinara Contemporary Indian Cuisine', 'image_url': 'https://s3-media2.fl.yelpcdn.com/bphoto/2WSq23KFZGuU2ItpmfidbA/o.jpg', 'is_closed': False, 'url': 'https://www.yelp.com/biz/kinara-contemporary-indian-cuisine-singapore-3?adjust_creative=KiNVvQ0Keh4NSvR570v8Cg&utm_campaign=yelp_api_v3&utm_medium=api_v3_business_search&utm_source=KiNVvQ0Keh4NSvR570v8Cg', 'review_count': 3, 'categories': [{'alias': 'indpak', 'title': 'Indian'}], 'rating': 3.5, 'coordinates': {'latitude': 1.33496654146034, 'longitude': 103.964357065391}, 'transactions': [], 'location': {'address1': '6 Changi Business Park Avenue 1', 'address2': '#01-28 UE Bizhub East', 'address3': '', 'city': 'Singapore', 'zip_code': '486017', 'country': 'SG', 'state': 'SG', 'display_address': ['6 Changi Business Park Avenue 1', '#01-28 UE Bizhub East', 'Singapore 486017', 'Singapore']}, 'phone': '+6566047016', 'display_phone': '+65 6604 7016', 'distance': 206.85326712865458}, {'id': '0oo51bZwoUnFi6PKOvyLcA', 'alias': 'dil-b-restaurant-singapore', 'name': \"Dil' B Restaurant\", 'image_url': 'https://s3-media1.fl.yelpcdn.com/bphoto/W8DGihqHvtCIZjSWtwGHhA/o.jpg', 'is_closed': False, 'url': 'https://www.yelp.com/biz/dil-b-restaurant-singapore?adjust_creative=KiNVvQ0Keh4NSvR570v8Cg&utm_campaign=yelp_api_v3&utm_medium=api_v3_business_search&utm_source=KiNVvQ0Keh4NSvR570v8Cg', 'review_count': 2, 'categories': [{'alias': 'indpak', 'title': 'Indian'}], 'rating': 4.0, 'coordinates': {'latitude': 1.38837619581901, 'longitude': 103.987668435125}, 'transactions': [], 'location': {'address1': 'Blk 1, Changi Village Rd', 'address2': '#01-2026', 'address3': '', 'city': 'Singapore', 'zip_code': '500001', 'country': 'SG', 'state': 'SG', 'display_address': ['Blk 1, Changi Village Rd', '#01-2026', 'Singapore 500001', 'Singapore']}, 'phone': '+6565433508', 'display_phone': '+65 6543 3508', 'distance': 6620.16949921788}, {'id': 'Ey_JmC2jX9qQ-0RRWtPHIg', 'alias': 'prata-wala-singapore-4', 'name': 'Prata Wala', 'image_url': 'https://s3-media3.fl.yelpcdn.com/bphoto/Kvi3hUtyRSFMLnOaUfsedg/o.jpg', 'is_closed': False, 'url': 'https://www.yelp.com/biz/prata-wala-singapore-4?adjust_creative=KiNVvQ0Keh4NSvR570v8Cg&utm_campaign=yelp_api_v3&utm_medium=api_v3_business_search&utm_source=KiNVvQ0Keh4NSvR570v8Cg', 'review_count': 7, 'categories': [{'alias': 'indpak', 'title': 'Indian'}], 'rating': 2.5, 'coordinates': {'latitude': 1.35299761020569, 'longitude': 103.944031888409}, 'transactions': [], 'location': {'address1': '4 Tampines Central 5', 'address2': '#B1-K19 Tampines Mall', 'address3': '', 'city': 'Singapore', 'zip_code': '529510', 'country': 'SG', 'state': 'SG', 'display_address': ['4 Tampines Central 5', '#B1-K19 Tampines Mall', 'Singapore 529510', 'Singapore']}, 'phone': '+6567891237', 'display_phone': '+65 6789 1237', 'distance': 2923.289218088695}, {'id': 'ApzBOAkThUr2oKFavEWxsg', 'alias': 'curry-hopper-singapore', 'name': 'Curry Hopper', 'image_url': 'https://s3-media3.fl.yelpcdn.com/bphoto/tAKSAYM410niC1sNVeQvdA/o.jpg', 'is_closed': False, 'url': 'https://www.yelp.com/biz/curry-hopper-singapore?adjust_creative=KiNVvQ0Keh4NSvR570v8Cg&utm_campaign=yelp_api_v3&utm_medium=api_v3_business_search&utm_source=KiNVvQ0Keh4NSvR570v8Cg', 'review_count': 1, 'categories': [{'alias': 'indpak', 'title': 'Indian'}], 'rating': 2.0, 'coordinates': {'latitude': 1.34246, 'longitude': 103.9527512}, 'transactions': [], 'price': '$', 'location': {'address1': '3 Simei Street 6', 'address2': '#04-15, Eastpoint Mall', 'address3': '', 'city': 'Singapore', 'zip_code': '528833', 'country': 'SG', 'state': 'SG', 'display_address': ['3 Simei Street 6', '#04-15, Eastpoint Mall', 'Singapore 528833', 'Singapore']}, 'phone': '', 'display_phone': '', 'distance': 1430.4192372281982}, {'id': 'c0plIOPd1itcJmkOKjqR8w', 'alias': 'kaveri-indian-vegetarian-singapore', 'name': 'Kaveri Indian Vegetarian', 'image_url': 'https://s3-media1.fl.yelpcdn.com/bphoto/MTPO0856iAZASIK5dQn1QA/o.jpg', 'is_closed': False, 'url': 'https://www.yelp.com/biz/kaveri-indian-vegetarian-singapore?adjust_creative=KiNVvQ0Keh4NSvR570v8Cg&utm_campaign=yelp_api_v3&utm_medium=api_v3_business_search&utm_source=KiNVvQ0Keh4NSvR570v8Cg', 'review_count': 6, 'categories': [{'alias': 'indpak', 'title': 'Indian'}, {'alias': 'vegetarian', 'title': 'Vegetarian'}], 'rating': 2.5, 'coordinates': {'latitude': 1.3551116, 'longitude': 103.9890226}, 'transactions': [], 'price': '$', 'location': {'address1': '60 Airport Blvd', 'address2': 'Level 3, Departure Lounge', 'address3': '', 'city': 'Singapore', 'zip_code': '819643', 'country': 'SG', 'state': 'SG', 'display_address': ['60 Airport Blvd', 'Level 3, Departure Lounge', 'Singapore 819643', 'Singapore']}, 'phone': '', 'display_phone': '', 'distance': 3734.8343654168057}, {'id': 'U93AbugzikIwMI4mnFSHFA', 'alias': 'delhi6-singapore', 'name': 'Delhi6', 'image_url': 'https://s3-media1.fl.yelpcdn.com/bphoto/ElCrt7fE2gMQtp87qz_Ofw/o.jpg', 'is_closed': False, 'url': 'https://www.yelp.com/biz/delhi6-singapore?adjust_creative=KiNVvQ0Keh4NSvR570v8Cg&utm_campaign=yelp_api_v3&utm_medium=api_v3_business_search&utm_source=KiNVvQ0Keh4NSvR570v8Cg', 'review_count': 5, 'categories': [{'alias': 'indpak', 'title': 'Indian'}], 'rating': 3.5, 'coordinates': {'latitude': 1.30378, 'longitude': 103.90288}, 'transactions': [], 'price': '$$', 'location': {'address1': '30 East Coast Rd', 'address2': '#01-12/13, Katong V Mall', 'address3': '', 'city': 'Singapore', 'zip_code': '428751', 'country': 'SG', 'state': 'SG', 'display_address': ['30 East Coast Rd', '#01-12/13, Katong V Mall', 'Singapore 428751', 'Singapore']}, 'phone': '+6563420049', 'display_phone': '+65 6342 0049', 'distance': 7450.578200942179}, {'id': 'IRIl70G0R4aCZ2tanrieew', 'alias': 'al-mahboob-indian-rojak-singapore', 'name': 'Al Mahboob Indian Rojak', 'image_url': 'https://s3-media2.fl.yelpcdn.com/bphoto/_w-IzLRTggaSs9FrTTQ1uQ/o.jpg', 'is_closed': False, 'url': 'https://www.yelp.com/biz/al-mahboob-indian-rojak-singapore?adjust_creative=KiNVvQ0Keh4NSvR570v8Cg&utm_campaign=yelp_api_v3&utm_medium=api_v3_business_search&utm_source=KiNVvQ0Keh4NSvR570v8Cg', 'review_count': 3, 'categories': [{'alias': 'indpak', 'title': 'Indian'}], 'rating': 2.5, 'coordinates': {'latitude': 1.35202920405543, 'longitude': 103.94191269577}, 'transactions': [], 'price': '$', 'location': {'address1': '300 Tampines Ave 5', 'address2': '#01-02 Tampines Junction', 'address3': '', 'city': 'Singapore', 'zip_code': '520506', 'country': 'SG', 'state': 'SG', 'display_address': ['300 Tampines Ave 5', '#01-02 Tampines Junction', 'Singapore 520506', 'Singapore']}, 'phone': '+6567882257', 'display_phone': '+65 6788 2257', 'distance': 3023.060528662376}, {'id': 'rlaJTGSGs6YCjE66XqxVSg', 'alias': 'the-mango-tree-singapore-2', 'name': 'The Mango Tree', 'image_url': 'https://s3-media2.fl.yelpcdn.com/bphoto/x1zvA9FE9Hm14EfEtJGdbQ/o.jpg', 'is_closed': False, 'url': 'https://www.yelp.com/biz/the-mango-tree-singapore-2?adjust_creative=KiNVvQ0Keh4NSvR570v8Cg&utm_campaign=yelp_api_v3&utm_medium=api_v3_business_search&utm_source=KiNVvQ0Keh4NSvR570v8Cg', 'review_count': 6, 'categories': [{'alias': 'indpak', 'title': 'Indian'}], 'rating': 4.0, 'coordinates': {'latitude': 1.3054519176417, 'longitude': 103.903925893848}, 'transactions': [], 'price': '$$', 'location': {'address1': '91 East Coast Rd', 'address2': '#01-00', 'address3': '', 'city': 'Singapore', 'zip_code': '428791', 'country': 'SG', 'state': 'SG', 'display_address': ['91 East Coast Rd', '#01-00', 'Singapore 428791', 'Singapore']}, 'phone': '+6564401285', 'display_phone': '+65 6440 1285', 'distance': 7271.596190844436}, {'id': 'N-_l2Mzksm2k_sXs__Vy8w', 'alias': 'chat-masala-singapore', 'name': 'Chat Masala', 'image_url': 'https://s3-media1.fl.yelpcdn.com/bphoto/TWcilg9o0HMAnXvMNwfXRg/o.jpg', 'is_closed': False, 'url': 'https://www.yelp.com/biz/chat-masala-singapore?adjust_creative=KiNVvQ0Keh4NSvR570v8Cg&utm_campaign=yelp_api_v3&utm_medium=api_v3_business_search&utm_source=KiNVvQ0Keh4NSvR570v8Cg', 'review_count': 10, 'categories': [{'alias': 'indpak', 'title': 'Indian'}], 'rating': 4.0, 'coordinates': {'latitude': 1.3137221777264, 'longitude': 103.931617116907}, 'transactions': [], 'price': '$$', 'location': {'address1': '158 Upper East Coast Rd', 'address2': None, 'address3': None, 'city': 'Singapore', 'zip_code': '455254', 'country': 'SG', 'state': 'SG', 'display_address': ['158 Upper East Coast Rd', 'Singapore 455254', 'Singapore']}, 'phone': '+6568760570', 'display_phone': '+65 6876 0570', 'distance': 4138.94287058296}, {'id': '7T5-zuI7nyc5Oh3kgjXV8A', 'alias': 'chutney-mary-singapore-2', 'name': 'Chutney Mary', 'image_url': 'https://s3-media2.fl.yelpcdn.com/bphoto/qfdM-HVsLsEsoPuYHvfURg/o.jpg', 'is_closed': False, 'url': 'https://www.yelp.com/biz/chutney-mary-singapore-2?adjust_creative=KiNVvQ0Keh4NSvR570v8Cg&utm_campaign=yelp_api_v3&utm_medium=api_v3_business_search&utm_source=KiNVvQ0Keh4NSvR570v8Cg', 'review_count': 1, 'categories': [{'alias': 'indpak', 'title': 'Indian'}], 'rating': 3.0, 'coordinates': {'latitude': 1.35503300405439, 'longitude': 103.98985537795}, 'transactions': [], 'location': {'address1': '60 Airport Blvd', 'address2': '#036-056, Terminal 2', 'address3': '', 'city': 'Singapore', 'zip_code': '819643', 'country': 'SG', 'state': 'SG', 'display_address': ['60 Airport Blvd', '#036-056, Terminal 2', 'Singapore 819643', 'Singapore']}, 'phone': '+6565462790', 'display_phone': '+65 6546 2790', 'distance': 3802.802190942527}, {'id': 'ngNCjM-JpCELwRLb6cOKog', 'alias': 'indian-cuisine-stall-koufu-changi-city-point-no-title', 'name': 'Indian Cuisine Stall - Koufu - Changi City Point', 'image_url': 'https://s3-media2.fl.yelpcdn.com/bphoto/duvpuRUP_b8oP0ucBzT-9Q/o.jpg', 'is_closed': False, 'url': 'https://www.yelp.com/biz/indian-cuisine-stall-koufu-changi-city-point-no-title?adjust_creative=KiNVvQ0Keh4NSvR570v8Cg&utm_campaign=yelp_api_v3&utm_medium=api_v3_business_search&utm_source=KiNVvQ0Keh4NSvR570v8Cg', 'review_count': 1, 'categories': [{'alias': 'indpak', 'title': 'Indian'}], 'rating': 3.0, 'coordinates': {'latitude': 1.3359179, 'longitude': 103.9652546}, 'transactions': [], 'price': '$', 'location': {'address1': '5 Changi Business Park Central 1', 'address2': '#02-01/02 Changi City Point', 'address3': '', 'city': 'Singapore', 'zip_code': '486038', 'country': 'SG', 'state': 'SG', 'display_address': ['5 Changi Business Park Central 1', '#02-01/02 Changi City Point', 'Singapore 486038', 'Singapore']}, 'phone': '', 'display_phone': '', 'distance': 342.0456362090399}, {'id': '4KafY_bTFcBXn1WeNNHr3A', 'alias': 'mahmoodiya-restaurant-singapore', 'name': 'Mahmoodiya Restaurant', 'image_url': 'https://s3-media1.fl.yelpcdn.com/bphoto/yo3i4qcVZb-ULnFhBC2LgQ/o.jpg', 'is_closed': False, 'url': 'https://www.yelp.com/biz/mahmoodiya-restaurant-singapore?adjust_creative=KiNVvQ0Keh4NSvR570v8Cg&utm_campaign=yelp_api_v3&utm_medium=api_v3_business_search&utm_source=KiNVvQ0Keh4NSvR570v8Cg', 'review_count': 6, 'categories': [{'alias': 'indpak', 'title': 'Indian'}], 'rating': 3.5, 'coordinates': {'latitude': 1.3311, 'longitude': 103.9473877}, 'transactions': [], 'price': '$$$', 'location': {'address1': '335 Bedok Rd', 'address2': '', 'address3': '', 'city': 'Singapore', 'zip_code': '469510', 'country': 'SG', 'state': 'SG', 'display_address': ['335 Bedok Rd', 'Singapore 469510', 'Singapore']}, 'phone': '+6564465176', 'display_phone': '+65 6446 5176', 'distance': 1714.943406869688}, {'id': 'lFHARW2hAD518WbptwHwsA', 'alias': 'mm-express-indian-food-stall-singapore', 'name': 'MM Express Indian Food Stall', 'image_url': 'https://s3-media2.fl.yelpcdn.com/bphoto/1PhYgsBiF8dD0rF23kaWHg/o.jpg', 'is_closed': False, 'url': 'https://www.yelp.com/biz/mm-express-indian-food-stall-singapore?adjust_creative=KiNVvQ0Keh4NSvR570v8Cg&utm_campaign=yelp_api_v3&utm_medium=api_v3_business_search&utm_source=KiNVvQ0Keh4NSvR570v8Cg', 'review_count': 1, 'categories': [{'alias': 'indpak', 'title': 'Indian'}], 'rating': 3.0, 'coordinates': {'latitude': 1.3330169, 'longitude': 103.9654541}, 'transactions': [], 'location': {'address1': '1 Changi Business Park Cresent', 'address2': 'Plaza 8 - Mr Teh Tarik', 'address3': '', 'city': 'Singapore', 'zip_code': '486025', 'country': 'SG', 'state': 'SG', 'display_address': ['1 Changi Business Park Cresent', 'Plaza 8 - Mr Teh Tarik', 'Singapore 486025', 'Singapore']}, 'phone': '', 'display_phone': '', 'distance': 352.0455996618116}, {'id': 'SSowhZpsPJohOXDK6oLp1w', 'alias': 'dosa-plaza-singapore', 'name': 'Dosa Plaza', 'image_url': 'https://s3-media2.fl.yelpcdn.com/bphoto/-zqnsPIvF-Ueem2khEXIaw/o.jpg', 'is_closed': False, 'url': 'https://www.yelp.com/biz/dosa-plaza-singapore?adjust_creative=KiNVvQ0Keh4NSvR570v8Cg&utm_campaign=yelp_api_v3&utm_medium=api_v3_business_search&utm_source=KiNVvQ0Keh4NSvR570v8Cg', 'review_count': 3, 'categories': [{'alias': 'indpak', 'title': 'Indian'}, {'alias': 'vegetarian', 'title': 'Vegetarian'}], 'rating': 3.5, 'coordinates': {'latitude': 1.3081932, 'longitude': 103.895087}, 'transactions': [], 'location': {'address1': '253 Tanjong Katong Rd', 'address2': '', 'address3': '', 'city': 'Singapore', 'zip_code': '437041', 'country': 'SG', 'state': 'SG', 'display_address': ['253 Tanjong Katong Rd', 'Singapore 437041', 'Singapore']}, 'phone': '+6567455145', 'display_phone': '+65 6745 5145', 'distance': 8049.229621317769}, {'id': 'STcRoiy8RIovsGDKyJ1R0Q', 'alias': 'zafaraan-no-title', 'name': 'Zafaraan', 'image_url': 'https://s3-media4.fl.yelpcdn.com/bphoto/TiJp4H5OBBfYFl6_OSiVvA/o.jpg', 'is_closed': False, 'url': 'https://www.yelp.com/biz/zafaraan-no-title?adjust_creative=KiNVvQ0Keh4NSvR570v8Cg&utm_campaign=yelp_api_v3&utm_medium=api_v3_business_search&utm_source=KiNVvQ0Keh4NSvR570v8Cg', 'review_count': 3, 'categories': [{'alias': 'indpak', 'title': 'Indian'}], 'rating': 2.5, 'coordinates': {'latitude': 1.33627, 'longitude': 103.9634323}, 'transactions': [], 'location': {'address1': 'Changi Business Park Ave 1', 'address2': '', 'address3': '', 'city': 'Tampines', 'zip_code': '486018', 'country': 'SG', 'state': 'SG', 'display_address': ['Changi Business Park Ave 1', 'Tampines 486018', 'Singapore']}, 'phone': '', 'display_phone': '', 'distance': 155.11617409336318}, {'id': '-CRfix7S5OIVeP1_Clva2A', 'alias': 'springleaf-prata-place-singapore', 'name': 'Springleaf Prata Place', 'image_url': 'https://s3-media2.fl.yelpcdn.com/bphoto/9CiVFTBkCV6D9ye_TTeBAQ/o.jpg', 'is_closed': False, 'url': 'https://www.yelp.com/biz/springleaf-prata-place-singapore?adjust_creative=KiNVvQ0Keh4NSvR570v8Cg&utm_campaign=yelp_api_v3&utm_medium=api_v3_business_search&utm_source=KiNVvQ0Keh4NSvR570v8Cg', 'review_count': 10, 'categories': [{'alias': 'indpak', 'title': 'Indian'}, {'alias': 'halal', 'title': 'Halal'}], 'rating': 4.0, 'coordinates': {'latitude': 1.31606912259166, 'longitude': 103.925500099889}, 'transactions': [], 'price': '$', 'location': {'address1': '57b Jalan Tua Kong', 'address2': '', 'address3': '', 'city': 'Singapore', 'zip_code': '457253', 'country': 'SG', 'state': 'SG', 'display_address': ['57b Jalan Tua Kong', 'Singapore 457253', 'Singapore']}, 'phone': '+6586935393', 'display_phone': '+65 8693 5393', 'distance': 4598.459715915296}, {'id': 'wYNGXcCnAZGf_sse7d_Tgg', 'alias': 'mr-and-mrs-mohgans-super-crispy-roti-prata-singapore', 'name': \"Mr and Mrs Mohgan's Super Crispy Roti Prata\", 'image_url': 'https://s3-media1.fl.yelpcdn.com/bphoto/o6Y7QsNOP1M6XSAYAH1ucA/o.jpg', 'is_closed': False, 'url': 'https://www.yelp.com/biz/mr-and-mrs-mohgans-super-crispy-roti-prata-singapore?adjust_creative=KiNVvQ0Keh4NSvR570v8Cg&utm_campaign=yelp_api_v3&utm_medium=api_v3_business_search&utm_source=KiNVvQ0Keh4NSvR570v8Cg', 'review_count': 33, 'categories': [{'alias': 'indpak', 'title': 'Indian'}, {'alias': 'foodstands', 'title': 'Food Stands'}], 'rating': 4.0, 'coordinates': {'latitude': 1.30969568832628, 'longitude': 103.902061906746}, 'transactions': [], 'price': '$', 'location': {'address1': '300 Joo Chiat Rd', 'address2': '', 'address3': '', 'city': 'Singapore', 'zip_code': '427551', 'country': 'SG', 'state': 'SG', 'display_address': ['300 Joo Chiat Rd', 'Singapore 427551', 'Singapore']}, 'phone': '+6597943124', 'display_phone': '+65 9794 3124', 'distance': 7266.994595512325}, {'id': 'kD44O4rxvMSRhobM8vHLcg', 'alias': 'myras-beach-club-singapore', 'name': \"Myra's Beach Club\", 'image_url': 'https://s3-media2.fl.yelpcdn.com/bphoto/vbLiaiSDTGrSuAJZ4Yb-Xg/o.jpg', 'is_closed': False, 'url': 'https://www.yelp.com/biz/myras-beach-club-singapore?adjust_creative=KiNVvQ0Keh4NSvR570v8Cg&utm_campaign=yelp_api_v3&utm_medium=api_v3_business_search&utm_source=KiNVvQ0Keh4NSvR570v8Cg', 'review_count': 6, 'categories': [{'alias': 'mexican', 'title': 'Mexican'}, {'alias': 'indpak', 'title': 'Indian'}], 'rating': 3.5, 'coordinates': {'latitude': 1.31173, 'longitude': 103.9521866}, 'transactions': [], 'price': '$', 'location': {'address1': '1390 East Coast Pkwy', 'address2': None, 'address3': None, 'city': 'Singapore', 'zip_code': '468961', 'country': 'SG', 'state': 'SG', 'display_address': ['1390 East Coast Pkwy', 'Singapore 468961', 'Singapore']}, 'phone': '+6564433005', 'display_phone': '+65 6443 3005', 'distance': 2763.6265085459995}], 'total': 76, 'region': {'center': {'longitude': 103.96259307861328, 'latitude': 1.3343743643361128}}}, 'root_node': 'Query', 'params': {}, 'node_id': 'YelpNode'}\n"
     ]
    }
   ],
   "source": [
    "result = p.run(query=\"pizza near me\")\n",
    "print(result)"
   ]
  },
  {
   "cell_type": "code",
   "execution_count": 23,
   "metadata": {},
   "outputs": [
    {
     "name": "stdout",
     "output_type": "stream",
     "text": [
      "https://api.yelp.com/v3/businesses/search?location=changi%20city%20point&term=prata&categories=restaurants&price=2&price=3&open_now=true&attributes=parking_lot&attributes=liked_by_vegetarians&limit=20\n"
     ]
    }
   ],
   "source": [
    "import urllib.parse\n",
    "\n",
    "def construct_yelp_url(params: dict) -> str:\n",
    "    base_url = \"https://api.yelp.com/v3/businesses/search?\"\n",
    "    query_parameters = []\n",
    "\n",
    "    for key, value in params.items():\n",
    "        # If the value is a list (e.g., for attributes or price levels), \n",
    "        # we need to add each value separately with the same key.\n",
    "        if isinstance(value, list):\n",
    "            for v in value:\n",
    "                query_parameters.append(f\"{key}={urllib.parse.quote(str(v))}\")\n",
    "        else:\n",
    "            query_parameters.append(f\"{key}={urllib.parse.quote(str(value))}\")\n",
    "\n",
    "    # Join all query parameters with \"&\" and append to the base_url\n",
    "    url = base_url + \"&\".join(query_parameters)\n",
    "    return url\n",
    "\n",
    "# Example usage:\n",
    "params = {\n",
    "    \"location\": \"changi city point\",\n",
    "    \"term\": \"prata\",\n",
    "    \"categories\": \"restaurants\",\n",
    "    \"price\": [2, 3],  # Multiple price levels\n",
    "    \"open_now\": \"true\",\n",
    "    \"attributes\": [\"parking_lot\", \"liked_by_vegetarians\"],  # Multiple attributes\n",
    "    \"limit\": \"20\"\n",
    "}\n",
    "\n",
    "url = construct_yelp_url(params)\n",
    "print(url)\n"
   ]
  },
  {
   "cell_type": "code",
   "execution_count": null,
   "metadata": {},
   "outputs": [],
   "source": []
  }
 ],
 "metadata": {
  "kernelspec": {
   "display_name": "env",
   "language": "python",
   "name": "python3"
  },
  "language_info": {
   "codemirror_mode": {
    "name": "ipython",
    "version": 3
   },
   "file_extension": ".py",
   "mimetype": "text/x-python",
   "name": "python",
   "nbconvert_exporter": "python",
   "pygments_lexer": "ipython3",
   "version": "3.11.5"
  }
 },
 "nbformat": 4,
 "nbformat_minor": 2
}
